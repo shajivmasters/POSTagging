{
  "cells": [
    {
      "cell_type": "markdown",
      "metadata": {
        "id": "DBHgGURl-SXx"
      },
      "source": [
        "# POS Tagging - An Overview"
      ]
    },
    {
      "cell_type": "markdown",
      "metadata": {
        "id": "UUbx4U6Y-SXz"
      },
      "source": [
        "The process of classifying words into their __parts of speech__ and labeling them accordingly is known as **part-of-speech tagging**, or simply **POS-tagging**.\n",
        "\n",
        "The NLTK library has a number of corpora which contains word and its POS tag. The following table provide information about each tag:\n",
        "\n",
        "![POS tags](./jupyter resources/pos_tagging.png)"
      ]
    },
    {
      "cell_type": "markdown",
      "metadata": {
        "id": "USXF87D7-SX0"
      },
      "source": [
        "# Notebook layout\n",
        "1. Preprocess data\n",
        "2. Vanilla RNN\n",
        "3. Word Embeddings\n",
        "4. LSTM\n",
        "5. GRU\n",
        "6. Bidirectional LSTM\n",
        "7. Model Evaluation"
      ]
    },
    {
      "cell_type": "code",
      "execution_count": null,
      "metadata": {
        "colab": {
          "base_uri": "https://localhost:8080/"
        },
        "id": "9miZVooT-SX1",
        "outputId": "a2435ac6-8a14-4295-8c4d-4b60a2c95dda"
      },
      "outputs": [
        {
          "output_type": "stream",
          "name": "stdout",
          "text": [
            "Looking in indexes: https://pypi.org/simple, https://us-python.pkg.dev/colab-wheels/public/simple/\n",
            "Requirement already satisfied: nltk in /usr/local/lib/python3.9/dist-packages (3.8.1)\n",
            "Requirement already satisfied: regex>=2021.8.3 in /usr/local/lib/python3.9/dist-packages (from nltk) (2022.10.31)\n",
            "Requirement already satisfied: tqdm in /usr/local/lib/python3.9/dist-packages (from nltk) (4.65.0)\n",
            "Requirement already satisfied: click in /usr/local/lib/python3.9/dist-packages (from nltk) (8.1.3)\n",
            "Requirement already satisfied: joblib in /usr/local/lib/python3.9/dist-packages (from nltk) (1.2.0)\n",
            "Looking in indexes: https://pypi.org/simple, https://us-python.pkg.dev/colab-wheels/public/simple/\n",
            "Requirement already satisfied: keras in /usr/local/lib/python3.9/dist-packages (2.12.0)\n",
            "Looking in indexes: https://pypi.org/simple, https://us-python.pkg.dev/colab-wheels/public/simple/\n",
            "Requirement already satisfied: gensim in /usr/local/lib/python3.9/dist-packages (4.3.1)\n",
            "Requirement already satisfied: numpy>=1.18.5 in /usr/local/lib/python3.9/dist-packages (from gensim) (1.22.4)\n",
            "Requirement already satisfied: scipy>=1.7.0 in /usr/local/lib/python3.9/dist-packages (from gensim) (1.10.1)\n",
            "Requirement already satisfied: smart-open>=1.8.1 in /usr/local/lib/python3.9/dist-packages (from gensim) (6.3.0)\n",
            "Looking in indexes: https://pypi.org/simple, https://us-python.pkg.dev/colab-wheels/public/simple/\n",
            "Requirement already satisfied: seaborn in /usr/local/lib/python3.9/dist-packages (0.12.2)\n",
            "Requirement already satisfied: numpy!=1.24.0,>=1.17 in /usr/local/lib/python3.9/dist-packages (from seaborn) (1.22.4)\n",
            "Requirement already satisfied: matplotlib!=3.6.1,>=3.1 in /usr/local/lib/python3.9/dist-packages (from seaborn) (3.7.1)\n",
            "Requirement already satisfied: pandas>=0.25 in /usr/local/lib/python3.9/dist-packages (from seaborn) (1.5.3)\n",
            "Requirement already satisfied: pyparsing>=2.3.1 in /usr/local/lib/python3.9/dist-packages (from matplotlib!=3.6.1,>=3.1->seaborn) (3.0.9)\n",
            "Requirement already satisfied: pillow>=6.2.0 in /usr/local/lib/python3.9/dist-packages (from matplotlib!=3.6.1,>=3.1->seaborn) (8.4.0)\n",
            "Requirement already satisfied: kiwisolver>=1.0.1 in /usr/local/lib/python3.9/dist-packages (from matplotlib!=3.6.1,>=3.1->seaborn) (1.4.4)\n",
            "Requirement already satisfied: contourpy>=1.0.1 in /usr/local/lib/python3.9/dist-packages (from matplotlib!=3.6.1,>=3.1->seaborn) (1.0.7)\n",
            "Requirement already satisfied: python-dateutil>=2.7 in /usr/local/lib/python3.9/dist-packages (from matplotlib!=3.6.1,>=3.1->seaborn) (2.8.2)\n",
            "Requirement already satisfied: fonttools>=4.22.0 in /usr/local/lib/python3.9/dist-packages (from matplotlib!=3.6.1,>=3.1->seaborn) (4.39.3)\n",
            "Requirement already satisfied: importlib-resources>=3.2.0 in /usr/local/lib/python3.9/dist-packages (from matplotlib!=3.6.1,>=3.1->seaborn) (5.12.0)\n",
            "Requirement already satisfied: cycler>=0.10 in /usr/local/lib/python3.9/dist-packages (from matplotlib!=3.6.1,>=3.1->seaborn) (0.11.0)\n",
            "Requirement already satisfied: packaging>=20.0 in /usr/local/lib/python3.9/dist-packages (from matplotlib!=3.6.1,>=3.1->seaborn) (23.1)\n",
            "Requirement already satisfied: pytz>=2020.1 in /usr/local/lib/python3.9/dist-packages (from pandas>=0.25->seaborn) (2022.7.1)\n",
            "Requirement already satisfied: zipp>=3.1.0 in /usr/local/lib/python3.9/dist-packages (from importlib-resources>=3.2.0->matplotlib!=3.6.1,>=3.1->seaborn) (3.15.0)\n",
            "Requirement already satisfied: six>=1.5 in /usr/local/lib/python3.9/dist-packages (from python-dateutil>=2.7->matplotlib!=3.6.1,>=3.1->seaborn) (1.16.0)\n"
          ]
        }
      ],
      "source": [
        "\n",
        "!pip install nltk\n",
        "!pip install keras\n",
        "!pip install gensim\n",
        "!pip install seaborn"
      ]
    },
    {
      "cell_type": "code",
      "execution_count": null,
      "metadata": {
        "id": "QbRn8Qd9-SX2"
      },
      "outputs": [],
      "source": [
        "# import necessary libraries\n",
        "import warnings\n",
        "warnings.filterwarnings(\"ignore\")\n",
        "\n",
        "import numpy as np\n",
        "\n",
        "from matplotlib import pyplot as plt\n",
        "\n",
        "from nltk.corpus import brown\n",
        "from nltk.corpus import treebank\n",
        "from nltk.corpus import conll2000\n",
        "import seaborn as sns\n",
        "from gensim.models import KeyedVectors\n",
        "from nltk.corpus import brown\n",
        "from nltk.corpus import treebank\n",
        "from nltk.corpus import conll2000\n",
        "\n",
        "#import seaborn as sns\n",
        "\n",
        "from gensim.models import KeyedVectors\n",
        "\n",
        "from tensorflow.keras.preprocessing.sequence import pad_sequences\n",
        "from tensorflow.keras.utils import to_categorical\n",
        "from tensorflow.keras import Sequential, Input, Model\n",
        "from tensorflow.keras.layers import Embedding, Dense, TimeDistributed, LSTM, GRU, Bidirectional, SimpleRNN, RNN\n",
        "from tensorflow.keras.preprocessing.text import Tokenizer\n",
        "\n",
        "from sklearn.model_selection import train_test_split\n",
        "from sklearn.utils import shuffle"
      ]
    },
    {
      "cell_type": "markdown",
      "metadata": {
        "id": "o50xhI2f-SX2"
      },
      "source": [
        "# 1. Preprocess data"
      ]
    },
    {
      "cell_type": "markdown",
      "metadata": {
        "id": "iq9sYJrI-SX3"
      },
      "source": [
        "## Load data"
      ]
    },
    {
      "cell_type": "code",
      "execution_count": null,
      "metadata": {
        "colab": {
          "base_uri": "https://localhost:8080/"
        },
        "id": "-XipoiLT-SX3",
        "outputId": "44c5b486-35d6-4dce-d805-8c294433ab3b"
      },
      "outputs": [
        {
          "output_type": "stream",
          "name": "stderr",
          "text": [
            "[nltk_data] Downloading package treebank to /root/nltk_data...\n",
            "[nltk_data]   Unzipping corpora/treebank.zip.\n",
            "[nltk_data] Downloading package brown to /root/nltk_data...\n",
            "[nltk_data]   Unzipping corpora/brown.zip.\n",
            "[nltk_data] Downloading package conll2000 to /root/nltk_data...\n",
            "[nltk_data]   Unzipping corpora/conll2000.zip.\n",
            "[nltk_data] Downloading package universal_tagset to /root/nltk_data...\n",
            "[nltk_data]   Unzipping taggers/universal_tagset.zip.\n"
          ]
        }
      ],
      "source": [
        "import nltk\n",
        "nltk.download('treebank')\n",
        "nltk.download('brown')\n",
        "nltk.download('conll2000')\n",
        "nltk.download('universal_tagset')\n",
        "\n",
        "# load POS tagged corpora from NLTK\n",
        "treebank_corpus = treebank.tagged_sents(tagset='universal')\n",
        "brown_corpus = brown.tagged_sents(tagset='universal')\n",
        "conll_corpus = conll2000.tagged_sents(tagset='universal')\n",
        "tagged_sentences = treebank_corpus + brown_corpus + conll_corpus"
      ]
    },
    {
      "cell_type": "code",
      "execution_count": null,
      "metadata": {
        "colab": {
          "base_uri": "https://localhost:8080/"
        },
        "id": "pSfX5dON-SX3",
        "outputId": "def6a4aa-f8d0-4a9d-e4b2-3fdfb602fe05"
      },
      "outputs": [
        {
          "output_type": "execute_result",
          "data": {
            "text/plain": [
              "[('``', '.'),\n",
              " ('We', 'PRON'),\n",
              " ('have', 'VERB'),\n",
              " ('no', 'DET'),\n",
              " ('useful', 'ADJ'),\n",
              " ('information', 'NOUN'),\n",
              " ('on', 'ADP'),\n",
              " ('whether', 'ADP'),\n",
              " ('users', 'NOUN'),\n",
              " ('are', 'VERB'),\n",
              " ('at', 'ADP'),\n",
              " ('risk', 'NOUN'),\n",
              " (',', '.'),\n",
              " (\"''\", '.'),\n",
              " ('said', 'VERB'),\n",
              " ('*T*-1', 'X'),\n",
              " ('James', 'NOUN'),\n",
              " ('A.', 'NOUN'),\n",
              " ('Talcott', 'NOUN'),\n",
              " ('of', 'ADP'),\n",
              " ('Boston', 'NOUN'),\n",
              " (\"'s\", 'PRT'),\n",
              " ('Dana-Farber', 'NOUN'),\n",
              " ('Cancer', 'NOUN'),\n",
              " ('Institute', 'NOUN'),\n",
              " ('.', '.')]"
            ]
          },
          "metadata": {},
          "execution_count": 4
        }
      ],
      "source": [
        "# let's look at the data\n",
        "tagged_sentences[11]"
      ]
    },
    {
      "cell_type": "markdown",
      "metadata": {
        "id": "bn6Npx-v-SX3"
      },
      "source": [
        "## Divide data in words (X) and tags (Y)"
      ]
    },
    {
      "cell_type": "markdown",
      "metadata": {
        "id": "mhXuQd3L-SX3"
      },
      "source": [
        "Since this is a **many-to-many** problem, each data point will be a different sentence of the corpora.\n",
        "\n",
        "Each data point will have multiple words in the **input sequence**. This is what we will refer to as **X**.\n",
        "\n",
        "Each word will have its correpsonding tag in the **output sequence**. This what we will refer to as **Y**.\n",
        "\n",
        "Sample dataset:\n",
        "\n",
        "|                    X                        |                 Y                |\n",
        "|---------------------------------------------|----------------------------------|\n",
        "|   Mr. Vinken is chairman of Elsevier        |   NOUN NOUN VERB NOUN ADP NOUN   |\n",
        "|     We have no useful information           |      PRON VERB DET ADJ NOUN      |"
      ]
    },
    {
      "cell_type": "code",
      "execution_count": null,
      "metadata": {
        "id": "zh41mV29-SX3"
      },
      "outputs": [],
      "source": [
        "X = [] # store input sequence\n",
        "Y = [] # store output sequence\n",
        "\n",
        "for sentence in tagged_sentences:\n",
        "    X_sentence = []\n",
        "    Y_sentence = []\n",
        "    for entity in sentence:         \n",
        "        X_sentence.append(entity[0])  # entity[0] contains the word\n",
        "        Y_sentence.append(entity[1])  # entity[1] contains corresponding tag\n",
        "        \n",
        "    X.append(X_sentence)\n",
        "    Y.append(Y_sentence)\n",
        "\n",
        "#X_sentence\n",
        "#Y_sentence"
      ]
    },
    {
      "cell_type": "code",
      "execution_count": null,
      "metadata": {
        "id": "gu8GJGbm-SX4"
      },
      "outputs": [],
      "source": [
        "num_words = len(set([word.lower() for sentence in X for word in sentence]))\n",
        "num_tags   = len(set([word.lower() for sentence in Y for word in sentence]))"
      ]
    },
    {
      "cell_type": "code",
      "execution_count": null,
      "metadata": {
        "colab": {
          "base_uri": "https://localhost:8080/"
        },
        "id": "BZt-tvdc-SX4",
        "outputId": "28690ba6-e2ea-40e5-853b-7729c59fe86c"
      },
      "outputs": [
        {
          "output_type": "stream",
          "name": "stdout",
          "text": [
            "Total number of tagged sentences: 72202\n",
            "Vocabulary size: 59448\n",
            "Total number of tags: 12\n"
          ]
        }
      ],
      "source": [
        "print(\"Total number of tagged sentences: {}\".format(len(X)))\n",
        "print(\"Vocabulary size: {}\".format(num_words))\n",
        "print(\"Total number of tags: {}\".format(num_tags))"
      ]
    },
    {
      "cell_type": "code",
      "source": [],
      "metadata": {
        "id": "ceN13UFc_aFr"
      },
      "execution_count": null,
      "outputs": []
    },
    {
      "cell_type": "code",
      "execution_count": null,
      "metadata": {
        "colab": {
          "base_uri": "https://localhost:8080/"
        },
        "id": "uQPWJKdH-SX4",
        "outputId": "2744599c-e5a3-4ba5-fbd2-b68199aa159d"
      },
      "outputs": [
        {
          "output_type": "stream",
          "name": "stdout",
          "text": [
            "sample X:  ['Pierre', 'Vinken', ',', '61', 'years', 'old', ',', 'will', 'join', 'the', 'board', 'as', 'a', 'nonexecutive', 'director', 'Nov.', '29', '.'] \n",
            "\n",
            "sample Y:  ['NOUN', 'NOUN', '.', 'NUM', 'NOUN', 'ADJ', '.', 'VERB', 'VERB', 'DET', 'NOUN', 'ADP', 'DET', 'ADJ', 'NOUN', 'NOUN', 'NUM', '.'] \n",
            "\n"
          ]
        }
      ],
      "source": [
        "# let's look at first data point\n",
        "# this is one data point that will be fed to the RNN\n",
        "print('sample X: ', X[0], '\\n')\n",
        "print('sample Y: ', Y[0], '\\n')"
      ]
    },
    {
      "cell_type": "code",
      "execution_count": null,
      "metadata": {
        "colab": {
          "base_uri": "https://localhost:8080/"
        },
        "id": "7iXoFcpY-SX4",
        "outputId": "ca00b43a-3c7a-4644-c32e-020a6c38311e"
      },
      "outputs": [
        {
          "output_type": "stream",
          "name": "stdout",
          "text": [
            "Length of first input sequence  : 18\n",
            "Length of first output sequence : 18\n"
          ]
        }
      ],
      "source": [
        "# In this many-to-many problem, the length of each input and output sequence must be the same.\n",
        "# Since each word is tagged, it's important to make sure that the length of input sequence equals the output sequence\n",
        "print(\"Length of first input sequence  : {}\".format(len(X[0])))\n",
        "print(\"Length of first output sequence : {}\".format(len(Y[0])))"
      ]
    },
    {
      "cell_type": "markdown",
      "metadata": {
        "id": "M1jgONUA-SX4"
      },
      "source": [
        "## Vectorise X and Y"
      ]
    },
    {
      "cell_type": "markdown",
      "metadata": {
        "id": "cm4r-zVC-SX4"
      },
      "source": [
        "#### Encode X and Y to integer values\n",
        "\n",
        "We'll use the Tokenizer() function from Keras library to encode text sequence to integer sequence"
      ]
    },
    {
      "cell_type": "code",
      "execution_count": null,
      "metadata": {
        "id": "zlz8M9ei-SX5"
      },
      "outputs": [],
      "source": [
        "# encode X\n",
        "\n",
        "word_tokenizer = Tokenizer()                      # instantiate tokeniser\n",
        "word_tokenizer.fit_on_texts(X)                    # fit tokeniser on data\n",
        "X_encoded = word_tokenizer.texts_to_sequences(X)  # use the tokeniser to encode input sequence"
      ]
    },
    {
      "cell_type": "code",
      "execution_count": null,
      "metadata": {
        "id": "XKgBIALi-SX5"
      },
      "outputs": [],
      "source": [
        "# encode Y\n",
        "\n",
        "tag_tokenizer = Tokenizer()\n",
        "tag_tokenizer.fit_on_texts(Y)\n",
        "Y_encoded = tag_tokenizer.texts_to_sequences(Y)"
      ]
    },
    {
      "cell_type": "code",
      "execution_count": null,
      "metadata": {
        "colab": {
          "base_uri": "https://localhost:8080/"
        },
        "id": "Uk376mkR-SX5",
        "outputId": "fdb4e31e-1ca0-42cf-fd46-66442c46382a"
      },
      "outputs": [
        {
          "output_type": "stream",
          "name": "stdout",
          "text": [
            "** Raw data point ** \n",
            " ---------------------------------------------------------------------------------------------------- \n",
            "\n",
            "X:  ['Pierre', 'Vinken', ',', '61', 'years', 'old', ',', 'will', 'join', 'the', 'board', 'as', 'a', 'nonexecutive', 'director', 'Nov.', '29', '.'] \n",
            "\n",
            "Y:  ['NOUN', 'NOUN', '.', 'NUM', 'NOUN', 'ADJ', '.', 'VERB', 'VERB', 'DET', 'NOUN', 'ADP', 'DET', 'ADJ', 'NOUN', 'NOUN', 'NUM', '.'] \n",
            "\n",
            "\n",
            "** Encoded data point ** \n",
            " ---------------------------------------------------------------------------------------------------- \n",
            "\n",
            "X:  [6423, 24231, 2, 7652, 102, 170, 2, 47, 1898, 1, 269, 17, 7, 13230, 619, 1711, 2761, 3] \n",
            "\n",
            "Y:  [1, 1, 3, 11, 1, 6, 3, 2, 2, 5, 1, 4, 5, 6, 1, 1, 11, 3] \n",
            "\n"
          ]
        }
      ],
      "source": [
        "# look at first encoded data point\n",
        "\n",
        "print(\"** Raw data point **\", \"\\n\", \"-\"*100, \"\\n\")\n",
        "print('X: ', X[0], '\\n')\n",
        "print('Y: ', Y[0], '\\n')\n",
        "print()\n",
        "print(\"** Encoded data point **\", \"\\n\", \"-\"*100, \"\\n\")\n",
        "print('X: ', X_encoded[0], '\\n')\n",
        "print('Y: ', Y_encoded[0], '\\n')"
      ]
    },
    {
      "cell_type": "code",
      "execution_count": null,
      "metadata": {
        "colab": {
          "base_uri": "https://localhost:8080/"
        },
        "id": "ZoxigOWb-SX5",
        "outputId": "d849a6f9-ff64-41ce-f53c-b5758da9b884"
      },
      "outputs": [
        {
          "output_type": "stream",
          "name": "stdout",
          "text": [
            "0 sentences have disparate input-output lengths.\n"
          ]
        }
      ],
      "source": [
        "# make sure that each sequence of input and output is same length\n",
        "\n",
        "different_length = [1 if len(input) != len(output) else 0 for input, output in zip(X_encoded, Y_encoded)]\n",
        "print(\"{} sentences have disparate input-output lengths.\".format(sum(different_length)))"
      ]
    },
    {
      "cell_type": "markdown",
      "metadata": {
        "id": "FQ_gUWqU-SX5"
      },
      "source": [
        "## Pad sequences"
      ]
    },
    {
      "cell_type": "markdown",
      "metadata": {
        "id": "pJJfCLjV-SX5"
      },
      "source": [
        "The next step after encoding the data is to **define the sequence lengths**. As of now, the sentences present in the data are of various lengths. We need to either pad short sentences or truncate long sentences to a fixed length. This fixed length, however, is a **hyperparameter**."
      ]
    },
    {
      "cell_type": "code",
      "execution_count": null,
      "metadata": {
        "colab": {
          "base_uri": "https://localhost:8080/"
        },
        "id": "K50VnVZX-SX5",
        "outputId": "340e020e-7c03-414c-d15d-8319bb04aee2"
      },
      "outputs": [
        {
          "output_type": "stream",
          "name": "stdout",
          "text": [
            "Length of longest sentence: 271\n"
          ]
        }
      ],
      "source": [
        "# check length of longest sentence\n",
        "lengths = [len(seq) for seq in X_encoded]\n",
        "print(\"Length of longest sentence: {}\".format(max(lengths)))"
      ]
    },
    {
      "cell_type": "code",
      "execution_count": null,
      "metadata": {
        "colab": {
          "base_uri": "https://localhost:8080/",
          "height": 430
        },
        "id": "ryhwo2hG-SX5",
        "outputId": "1a0e3b68-fce7-4e5e-c1a5-1abb505a7422"
      },
      "outputs": [
        {
          "output_type": "display_data",
          "data": {
            "text/plain": [
              "<Figure size 640x480 with 1 Axes>"
            ],
            "image/png": "[encoded data removed]"
          },
          "metadata": {}
        }
      ],
      "source": [
        "sns.boxplot(lengths)\n",
        "plt.show()"
      ]
    },
    {
      "cell_type": "code",
      "execution_count": null,
      "metadata": {
        "id": "2lM8HGov-SX6"
      },
      "outputs": [],
      "source": [
        "# Pad each sequence to MAX_SEQ_LENGTH using KERAS' pad_sequences() function. \n",
        "# Sentences longer than MAX_SEQ_LENGTH are truncated.\n",
        "# Sentences shorter than MAX_SEQ_LENGTH are padded with zeroes.\n",
        "\n",
        "# Truncation and padding can either be 'pre' or 'post'. \n",
        "# For padding we are using 'pre' padding type, that is, add zeroes on the left side.\n",
        "# For truncation, we are using 'post', that is, truncate a sentence from right side.\n",
        "\n",
        "MAX_SEQ_LENGTH = 100  # sequences greater than 100 in length will be truncated\n",
        "\n",
        "X_padded = pad_sequences(X_encoded, maxlen=MAX_SEQ_LENGTH, padding=\"pre\", truncating=\"post\")\n",
        "Y_padded = pad_sequences(Y_encoded, maxlen=MAX_SEQ_LENGTH, padding=\"pre\", truncating=\"post\")"
      ]
    },
    {
      "cell_type": "code",
      "execution_count": null,
      "metadata": {
        "scrolled": true,
        "colab": {
          "base_uri": "https://localhost:8080/"
        },
        "id": "P8hWSYpp-SX6",
        "outputId": "cc632baa-6161-4630-fad1-ebc078d4be5d"
      },
      "outputs": [
        {
          "output_type": "stream",
          "name": "stdout",
          "text": [
            "[    0     0     0     0     0     0     0     0     0     0     0     0\n",
            "     0     0     0     0     0     0     0     0     0     0     0     0\n",
            "     0     0     0     0     0     0     0     0     0     0     0     0\n",
            "     0     0     0     0     0     0     0     0     0     0     0     0\n",
            "     0     0     0     0     0     0     0     0     0     0     0     0\n",
            "     0     0     0     0     0     0     0     0     0     0     0     0\n",
            "     0     0     0     0     0     0     0     0     0     0  6423 24231\n",
            "     2  7652   102   170     2    47  1898     1   269    17     7 13230\n",
            "   619  1711  2761     3] \n",
            "\n",
            "\n",
            "\n",
            "[ 0  0  0  0  0  0  0  0  0  0  0  0  0  0  0  0  0  0  0  0  0  0  0  0\n",
            "  0  0  0  0  0  0  0  0  0  0  0  0  0  0  0  0  0  0  0  0  0  0  0  0\n",
            "  0  0  0  0  0  0  0  0  0  0  0  0  0  0  0  0  0  0  0  0  0  0  0  0\n",
            "  0  0  0  0  0  0  0  0  0  0  1  1  3 11  1  6  3  2  2  5  1  4  5  6\n",
            "  1  1 11  3]\n"
          ]
        }
      ],
      "source": [
        "# print the first sequence\n",
        "print(X_padded[0], \"\\n\"*3)\n",
        "print(Y_padded[0])"
      ]
    },
    {
      "cell_type": "markdown",
      "metadata": {
        "collapsed": true,
        "id": "8Zwk4zAE-SX6"
      },
      "source": [
        "RNN will learn the zero to zero mapping while training. So we don't need to worry about the padded zeroes. Please note that zero is not reserved for any word or tag, it's only reserved for padding."
      ]
    },
    {
      "cell_type": "code",
      "execution_count": null,
      "metadata": {
        "id": "IFs5aBfE-SX6"
      },
      "outputs": [],
      "source": [
        "# assign padded sequences to X and Y\n",
        "X, Y = X_padded, Y_padded"
      ]
    },
    {
      "cell_type": "markdown",
      "metadata": {
        "id": "6796DnCM-SX6"
      },
      "source": [
        "## Word embeddings"
      ]
    },
    {
      "cell_type": "markdown",
      "metadata": {
        "id": "JWVql7TB-SX6"
      },
      "source": [
        "Currently, each word and each tag is encoded as an integer. \n",
        "\n",
        "We'll use a more sophisticated technique to represent the input words (X) using what's known as **word embeddings**.\n",
        "\n",
        "However, to represent each tag in Y, we'll simply use **one-hot encoding** scheme since there are only 13 tags in the dataset and the LSTM will have no problems in learning its own representation of these tags."
      ]
    },
    {
      "cell_type": "markdown",
      "metadata": {
        "id": "Em5Nerui-SX6"
      },
      "source": [
        "To use word embeddings, you can go for either of the following models:\n",
        "1. word2vec model: https://code.google.com/archive/p/word2vec/\n",
        "2. GloVe model : https://nlp.stanford.edu/projects/glove/\n",
        "\n",
        "We're using the word2vec model for no particular reason. Both of these are very efficient in representing words. You can try both and see which one works better.\n",
        "\n",
        "Dimensions of a word embedding is: (VOCABULARY_SIZE, EMBEDDING_DIMENSION)"
      ]
    },
    {
      "cell_type": "markdown",
      "metadata": {
        "id": "rqLs0IyL-SX6"
      },
      "source": [
        "### Use word embeddings for input sequences (X)"
      ]
    },
    {
      "cell_type": "code",
      "source": [
        "!pip install word2vec"
      ],
      "metadata": {
        "colab": {
          "base_uri": "https://localhost:8080/"
        },
        "id": "nz5OkBMjFq62",
        "outputId": "4d51587b-d24a-459c-ddd8-e603b531d8dd"
      },
      "execution_count": null,
      "outputs": [
        {
          "output_type": "stream",
          "name": "stdout",
          "text": [
            "Looking in indexes: https://pypi.org/simple, https://us-python.pkg.dev/colab-wheels/public/simple/\n",
            "Collecting word2vec\n",
            "  Downloading word2vec-0.11.1.tar.gz (42 kB)\n",
            "\u001b[2K     \u001b[90m━━━━━━━━━━━━━━━━━━━━━━━━━━━━━━━━━━━━━━━━\u001b[0m \u001b[32m42.3/42.3 kB\u001b[0m \u001b[31m4.5 MB/s\u001b[0m eta \u001b[36m0:00:00\u001b[0m\n",
            "\u001b[?25h  Installing build dependencies ... \u001b[?25l\u001b[?25hdone\n",
            "  Getting requirements to build wheel ... \u001b[?25l\u001b[?25hdone\n",
            "  Preparing metadata (pyproject.toml) ... \u001b[?25l\u001b[?25hdone\n",
            "Requirement already satisfied: joblib in /usr/local/lib/python3.9/dist-packages (from word2vec) (1.2.0)\n",
            "Requirement already satisfied: numpy>=1.9.2 in /usr/local/lib/python3.9/dist-packages (from word2vec) (1.22.4)\n",
            "Building wheels for collected packages: word2vec\n",
            "  Building wheel for word2vec (pyproject.toml) ... \u001b[?25l\u001b[?25hdone\n",
            "  Created wheel for word2vec: filename=word2vec-0.11.1-py2.py3-none-any.whl size=143991 sha256=cd63f99dd9ca7a4418911a2d47aa3e40f4689c4d2aaaaac6f67a5fd59889206e\n",
            "  Stored in directory: /root/.cache/pip/wheels/d7/3e/81/4f4daaa6d86f5b9301c16cb1051baa2cbf8f0a309063862b2b\n",
            "Successfully built word2vec\n",
            "Installing collected packages: word2vec\n",
            "Successfully installed word2vec-0.11.1\n"
          ]
        }
      ]
    },
    {
      "cell_type": "code",
      "execution_count": null,
      "metadata": {
        "colab": {
          "base_uri": "https://localhost:8080/"
        },
        "id": "gbyFKC1r-SX7",
        "outputId": "5b309faa-d39d-4fb6-90f5-3f084abcd41d"
      },
      "outputs": [
        {
          "output_type": "execute_result",
          "data": {
            "text/plain": [
              "[('Queen', 0.4929387867450714),\n",
              " ('Tupou_V.', 0.45174285769462585),\n",
              " ('Oprah_BFF_Gayle', 0.4422132968902588),\n",
              " ('Jackson', 0.440250426530838),\n",
              " ('NECN_Alison', 0.4331282675266266),\n",
              " ('Whitfield', 0.42834725975990295),\n",
              " ('Ida_Vandross', 0.42084527015686035),\n",
              " ('prosecutor_Dan_Satterberg', 0.420758992433548),\n",
              " ('martin_Luther_King', 0.42059651017189026),\n",
              " ('Coretta_King', 0.4202733635902405)]"
            ]
          },
          "metadata": {},
          "execution_count": 36
        }
      ],
      "source": [
        "# word2vec effectiveness\n",
        "\n",
        "# word2vec download link (Size ~ 1.5GB): https://drive.google.com/file/d/0B7XkCwpI5KDYNlNUTTlSS21pQmM/edit\n",
        "\n",
        "#path = '/GoogleNews-vectors-negative300.bin.gz'\n",
        "\n",
        "# load word2vec using the following function present in the gensim library\n",
        "#word2vec = KeyedVectors.load_word2vec_format(path, binary=True)\n",
        "\n",
        "import gensim.downloader as api\n",
        "wv = api.load('word2vec-google-news-300')\n",
        "\n",
        "wv.most_similar(positive = [\"King\", \"Woman\"], negative = [\"Man\"])"
      ]
    },
    {
      "cell_type": "code",
      "execution_count": null,
      "metadata": {
        "id": "7QNdGDiC-SX7"
      },
      "outputs": [],
      "source": [
        "\n",
        "word2vec = wv\n",
        "# assign word vectors from word2vec model\n",
        "\n",
        "EMBEDDING_SIZE  = 300  # each word in word2vec model is represented using a 300 dimensional vector\n",
        "VOCABULARY_SIZE = len(word_tokenizer.word_index) + 1\n",
        "\n",
        "# create an empty embedding matix\n",
        "embedding_weights = np.zeros((VOCABULARY_SIZE, EMBEDDING_SIZE))\n",
        "\n",
        "# create a word to index dictionary mapping\n",
        "word2id = word_tokenizer.word_index\n",
        "\n",
        "# copy vectors from word2vec model to the words present in corpus\n",
        "for word, index in word2id.items():\n",
        "    try:\n",
        "        embedding_weights[index, :] = word2vec[word]\n",
        "    except KeyError:\n",
        "        pass"
      ]
    },
    {
      "cell_type": "code",
      "execution_count": null,
      "metadata": {
        "colab": {
          "base_uri": "https://localhost:8080/"
        },
        "id": "7tjduHl0-SX7",
        "outputId": "26903211-70fa-4426-c826-b4c8a4ab748b"
      },
      "outputs": [
        {
          "output_type": "stream",
          "name": "stdout",
          "text": [
            "Embeddings shape: (59449, 300)\n"
          ]
        }
      ],
      "source": [
        "# check embedding dimension\n",
        "print(\"Embeddings shape: {}\".format(embedding_weights.shape))"
      ]
    },
    {
      "cell_type": "code",
      "source": [
        "embedding_weights"
      ],
      "metadata": {
        "colab": {
          "base_uri": "https://localhost:8080/"
        },
        "id": "fT-ktw6aKKf0",
        "outputId": "443eefeb-3209-4201-f962-2f3801d49538"
      },
      "execution_count": null,
      "outputs": [
        {
          "output_type": "execute_result",
          "data": {
            "text/plain": [
              "array([[ 0.        ,  0.        ,  0.        , ...,  0.        ,\n",
              "         0.        ,  0.        ],\n",
              "       [ 0.08007812,  0.10498047,  0.04980469, ...,  0.00366211,\n",
              "         0.04760742, -0.06884766],\n",
              "       [ 0.        ,  0.        ,  0.        , ...,  0.        ,\n",
              "         0.        ,  0.        ],\n",
              "       ...,\n",
              "       [ 0.        ,  0.        ,  0.        , ...,  0.        ,\n",
              "         0.        ,  0.        ],\n",
              "       [ 0.        ,  0.        ,  0.        , ...,  0.        ,\n",
              "         0.        ,  0.        ],\n",
              "       [-0.07080078, -0.08544922, -0.01556396, ..., -0.25      ,\n",
              "         0.25585938, -0.62109375]])"
            ]
          },
          "metadata": {},
          "execution_count": 52
        }
      ]
    },
    {
      "cell_type": "code",
      "execution_count": null,
      "metadata": {
        "colab": {
          "base_uri": "https://localhost:8080/"
        },
        "id": "zjKpbtAg-SX7",
        "outputId": "3884dd4b-8a22-4fc7-e8ab-0fdb2ccd44cf"
      },
      "outputs": [
        {
          "output_type": "execute_result",
          "data": {
            "text/plain": [
              "array([ 0.4453125 , -0.20019531,  0.20019531, -0.03149414,  0.078125  ,\n",
              "       -0.390625  ,  0.13671875, -0.13867188,  0.05395508,  0.10546875,\n",
              "       -0.05029297, -0.23730469,  0.19921875,  0.12597656, -0.12695312,\n",
              "        0.34179688,  0.06347656,  0.26757812, -0.07324219, -0.29101562,\n",
              "        0.10498047,  0.11914062,  0.23730469,  0.00640869,  0.12451172,\n",
              "       -0.00939941, -0.02770996,  0.03076172,  0.07421875, -0.22851562,\n",
              "       -0.08056641, -0.05273438,  0.16894531,  0.19824219, -0.15625   ,\n",
              "       -0.08740234,  0.10742188, -0.07177734,  0.05200195,  0.25976562,\n",
              "        0.171875  , -0.13574219,  0.06738281,  0.00531006,  0.15527344,\n",
              "       -0.03515625,  0.08789062,  0.3359375 , -0.12890625,  0.17578125,\n",
              "       -0.08642578,  0.32421875, -0.09033203,  0.35351562,  0.24316406,\n",
              "       -0.07470703, -0.06640625, -0.17578125,  0.06689453, -0.03833008,\n",
              "        0.0100708 , -0.21484375, -0.03686523,  0.04394531,  0.02209473,\n",
              "        0.00219727, -0.22460938,  0.03015137, -0.21582031,  0.16015625,\n",
              "        0.23339844, -0.16699219, -0.09228516,  0.10644531,  0.19335938,\n",
              "       -0.26757812,  0.15722656, -0.08691406,  0.11181641,  0.14941406,\n",
              "       -0.20507812,  0.04882812, -0.07519531, -0.21582031, -0.10107422,\n",
              "       -0.13378906, -0.06103516,  0.05444336,  0.07470703,  0.09521484,\n",
              "       -0.0144043 ,  0.27929688, -0.25585938, -0.05273438, -0.22460938,\n",
              "        0.10253906, -0.15136719,  0.21289062, -0.04711914, -0.12109375,\n",
              "        0.04663086,  0.25976562,  0.13574219,  0.00799561,  0.02001953,\n",
              "        0.1796875 ,  0.30664062,  0.06152344,  0.13574219, -0.09619141,\n",
              "       -0.07421875,  0.38671875,  0.20800781,  0.12695312,  0.05200195,\n",
              "        0.17675781, -0.16796875, -0.19335938, -0.06152344, -0.07568359,\n",
              "       -0.18457031,  0.06030273, -0.15136719, -0.1953125 , -0.23339844,\n",
              "        0.00738525, -0.02478027, -0.09765625, -0.06054688,  0.20214844,\n",
              "       -0.2734375 ,  0.00595093, -0.34570312, -0.12988281,  0.00418091,\n",
              "        0.09960938,  0.0246582 ,  0.15917969, -0.02038574,  0.30273438,\n",
              "       -0.20800781, -0.20214844, -0.03930664, -0.06494141,  0.00436401,\n",
              "       -0.02270508, -0.171875  ,  0.30273438, -0.16113281, -0.49414062,\n",
              "        0.3515625 ,  0.39257812,  0.09814453,  0.41796875,  0.05371094,\n",
              "        0.02392578, -0.03710938, -0.08251953, -0.38671875, -0.40625   ,\n",
              "       -0.05664062,  0.203125  , -0.01782227,  0.3359375 ,  0.19140625,\n",
              "       -0.44335938,  0.00927734,  0.24804688, -0.05102539,  0.19726562,\n",
              "        0.03881836,  0.03442383, -0.40039062, -0.09912109, -0.07128906,\n",
              "        0.21484375, -0.01422119,  0.04907227, -0.07421875, -0.21582031,\n",
              "       -0.41992188,  0.02172852,  0.11083984, -0.33398438, -0.2734375 ,\n",
              "       -0.05322266, -0.16601562, -0.28515625, -0.12207031,  0.04882812,\n",
              "       -0.0625    , -0.04077148, -0.16503906,  0.0480957 , -0.21191406,\n",
              "        0.20019531, -0.2109375 ,  0.10839844, -0.14648438, -0.07958984,\n",
              "       -0.05151367, -0.16601562, -0.24902344, -0.375     ,  0.05664062,\n",
              "       -0.13671875, -0.2578125 ,  0.28515625, -0.04736328,  0.13574219,\n",
              "       -0.14550781,  0.19433594, -0.21972656,  0.08447266, -0.10791016,\n",
              "       -0.11816406, -0.16015625,  0.12060547, -0.10888672,  0.04345703,\n",
              "        0.11474609, -0.08447266, -0.00720215,  0.03662109, -0.38671875,\n",
              "       -0.03881836, -0.03198242,  0.00344849,  0.22558594, -0.06787109,\n",
              "       -0.16699219,  0.2421875 ,  0.05712891,  0.27539062, -0.0456543 ,\n",
              "       -0.19042969, -0.17285156,  0.00836182, -0.03271484,  0.16992188,\n",
              "       -0.18554688, -0.0703125 , -0.32617188, -0.00668335, -0.02770996,\n",
              "        0.3359375 ,  0.125     , -0.2109375 ,  0.06005859, -0.07080078,\n",
              "        0.11132812,  0.125     ,  0.25390625,  0.29296875, -0.03125   ,\n",
              "        0.09033203, -0.20507812, -0.07861328,  0.02062988, -0.0546875 ,\n",
              "       -0.23339844,  0.00096893, -0.04516602,  0.16894531, -0.22167969,\n",
              "        0.08105469,  0.33398438,  0.09619141,  0.00866699, -0.03271484,\n",
              "        0.05493164,  0.12109375,  0.16210938, -0.10302734,  0.27148438,\n",
              "       -0.03344727, -0.30273438,  0.04223633,  0.08496094, -0.15527344,\n",
              "        0.10107422, -0.11474609, -0.13085938,  0.22949219,  0.12988281,\n",
              "        0.09863281, -0.03588867,  0.10693359, -0.24902344,  0.19238281,\n",
              "       -0.05322266, -0.09033203, -0.31640625, -0.5703125 , -0.15917969,\n",
              "        0.0291748 , -0.0246582 , -0.07714844, -0.04663086, -0.17578125])"
            ]
          },
          "metadata": {},
          "execution_count": 40
        }
      ],
      "source": [
        "# let's look at an embedding of a word\n",
        "embedding_weights[word_tokenizer.word_index['joy']]"
      ]
    },
    {
      "cell_type": "markdown",
      "metadata": {
        "id": "6tpbUznd-SX7"
      },
      "source": [
        "### Use one-hot encoding for output sequences (Y)"
      ]
    },
    {
      "cell_type": "code",
      "execution_count": null,
      "metadata": {
        "id": "BCJ2BmlD-SX7"
      },
      "outputs": [],
      "source": [
        "# use Keras' to_categorical function to one-hot encode Y\n",
        "Y = to_categorical(Y)"
      ]
    },
    {
      "cell_type": "code",
      "execution_count": null,
      "metadata": {
        "colab": {
          "base_uri": "https://localhost:8080/"
        },
        "id": "92LoMjDE-SX8",
        "outputId": "68506d83-c457-48cd-ff97-bc240510f4de"
      },
      "outputs": [
        {
          "output_type": "stream",
          "name": "stdout",
          "text": [
            "(72202, 100, 13)\n"
          ]
        }
      ],
      "source": [
        "# print Y of the first output sequqnce\n",
        "print(Y.shape)"
      ]
    },
    {
      "cell_type": "markdown",
      "metadata": {
        "id": "ZJuYwp2_-SX8"
      },
      "source": [
        "## Split data in training, validation and tesing sets"
      ]
    },
    {
      "cell_type": "code",
      "execution_count": null,
      "metadata": {
        "id": "ZQhEWMYs-SX8"
      },
      "outputs": [],
      "source": [
        "# split entire data into training and testing sets\n",
        "TEST_SIZE = 0.15\n",
        "X_train, X_test, Y_train, Y_test = train_test_split(X, Y, test_size=TEST_SIZE, random_state=4)"
      ]
    },
    {
      "cell_type": "code",
      "execution_count": null,
      "metadata": {
        "id": "5qyqS1VD-SX8"
      },
      "outputs": [],
      "source": [
        "# split training data into training and validation sets\n",
        "VALID_SIZE = 0.15\n",
        "X_train, X_validation, Y_train, Y_validation = train_test_split(X_train, Y_train, test_size=VALID_SIZE, random_state=4)"
      ]
    },
    {
      "cell_type": "code",
      "execution_count": null,
      "metadata": {
        "colab": {
          "base_uri": "https://localhost:8080/"
        },
        "id": "bxhAX2Oq-SX8",
        "outputId": "ebb807e1-676a-4e28-c6d9-4442f007f9c1"
      },
      "outputs": [
        {
          "output_type": "stream",
          "name": "stdout",
          "text": [
            "TRAINING DATA\n",
            "Shape of input sequences: (52165, 100)\n",
            "Shape of output sequences: (52165, 100, 13)\n",
            "--------------------------------------------------\n",
            "VALIDATION DATA\n",
            "Shape of input sequences: (9206, 100)\n",
            "Shape of output sequences: (9206, 100, 13)\n",
            "--------------------------------------------------\n",
            "TESTING DATA\n",
            "Shape of input sequences: (10831, 100)\n",
            "Shape of output sequences: (10831, 100, 13)\n"
          ]
        }
      ],
      "source": [
        "# print number of samples in each set\n",
        "print(\"TRAINING DATA\")\n",
        "print('Shape of input sequences: {}'.format(X_train.shape))\n",
        "print('Shape of output sequences: {}'.format(Y_train.shape))\n",
        "print(\"-\"*50)\n",
        "print(\"VALIDATION DATA\")\n",
        "print('Shape of input sequences: {}'.format(X_validation.shape))\n",
        "print('Shape of output sequences: {}'.format(Y_validation.shape))\n",
        "print(\"-\"*50)\n",
        "print(\"TESTING DATA\")\n",
        "print('Shape of input sequences: {}'.format(X_test.shape))\n",
        "print('Shape of output sequences: {}'.format(Y_test.shape))"
      ]
    },
    {
      "cell_type": "markdown",
      "metadata": {
        "id": "TQtEdhJX-SX8"
      },
      "source": [
        "Before using RNN, we must make sure the dimensions of the data are what an RNN expects. In general, an RNN expects the following shape\n",
        "\n",
        "Shape of X:\n",
        "(#samples, #timesteps, #features)\n",
        "\n",
        "Shape of Y:\n",
        "(#samples, #timesteps, #features)\n",
        "\n",
        "![RNN tensor shape](./jupyter resources/rnn_tensor.png)\n",
        "\n",
        "Now, there can be various variations in the shape that you use to feed an RNN depending on the type of architecture. Since the problem we're working on has a many-to-many architecture, the input and the output both include number of timesteps which is nothing but the sequence length. But notice that the tensor X doesn't have the third dimension, that is, number of features. That's because we're going to use word embeddings before feeding in the data to an RNN, and hence there is no need to explicitly mention the third dimension. That's because when you use the Embedding() layer in Keras, you the training data will automatically be converted to (#samples, #timesteps, #features) where #features will be the embedding dimention (and note that the Embedding layer is always the very first layer of an RNN). While using the embedding layer we only need to reshape the data to (#samples, #timesteps) which is what we have done. However, note that you'll need to shape it to (#samples, #timesteps, #features) in case you don't use the Embedding() layer in Keras."
      ]
    },
    {
      "cell_type": "markdown",
      "metadata": {
        "id": "Qa2nE0rs-SX8"
      },
      "source": [
        "# 2. Vanilla RNN"
      ]
    },
    {
      "cell_type": "markdown",
      "metadata": {
        "id": "42zaSDS1-SX8"
      },
      "source": [
        "### Uninitialised fixed embeddings\n",
        "First let's try running a vanilla RNN. For this RNN we won't use the pre-trained word embeddings. We'll use randomly inititalised embeddings. Moreover, we won't update the embeddings weights."
      ]
    },
    {
      "cell_type": "code",
      "execution_count": null,
      "metadata": {
        "id": "1xaikaii-SX8"
      },
      "outputs": [],
      "source": [
        "# total number of tags\n",
        "NUM_CLASSES = Y.shape[2]"
      ]
    },
    {
      "cell_type": "code",
      "execution_count": null,
      "metadata": {
        "id": "-5BCRaaJ-SX9"
      },
      "outputs": [],
      "source": [
        "# create architecture\n",
        "\n",
        "rnn_model = Sequential()\n",
        "\n",
        "# create embedding layer - usually the first layer in text problems\n",
        "rnn_model.add(Embedding(input_dim     =  VOCABULARY_SIZE,         # vocabulary size - number of unique words in data\n",
        "                        output_dim    =  EMBEDDING_SIZE,          # length of vector with which each word is represented\n",
        "                        input_length  =  MAX_SEQ_LENGTH,          # length of input sequence\n",
        "                        trainable     =  False                    # False - don't update the embeddings\n",
        "))\n",
        "\n",
        "# add an RNN layer which contains 64 RNN cells\n",
        "rnn_model.add(SimpleRNN(64, \n",
        "              return_sequences=True  # True - return whole sequence; False - return single output of the end of the sequence\n",
        "))\n",
        "\n",
        "# add time distributed (output at each sequence) layer\n",
        "rnn_model.add(TimeDistributed(Dense(NUM_CLASSES, activation='softmax')))"
      ]
    },
    {
      "cell_type": "markdown",
      "metadata": {
        "id": "DDuVXb0a-SX9"
      },
      "source": [
        "## Compile model"
      ]
    },
    {
      "cell_type": "code",
      "execution_count": null,
      "metadata": {
        "id": "Gg93Ylo--SX9"
      },
      "outputs": [],
      "source": [
        "rnn_model.compile(loss      =  'categorical_crossentropy',\n",
        "                  optimizer =  'adam',\n",
        "                  metrics   =  ['acc'])"
      ]
    },
    {
      "cell_type": "code",
      "execution_count": null,
      "metadata": {
        "colab": {
          "base_uri": "https://localhost:8080/"
        },
        "id": "opBfVqHS-SX9",
        "outputId": "250721d1-95bf-43ee-b140-adc1ead9b20f"
      },
      "outputs": [
        {
          "output_type": "stream",
          "name": "stdout",
          "text": [
            "Model: \"sequential\"\n",
            "_________________________________________________________________\n",
            " Layer (type)                Output Shape              Param #   \n",
            "=================================================================\n",
            " embedding (Embedding)       (None, 100, 300)          17834700  \n",
            "                                                                 \n",
            " simple_rnn (SimpleRNN)      (None, 100, 64)           23360     \n",
            "                                                                 \n",
            " time_distributed (TimeDistr  (None, 100, 13)          845       \n",
            " ibuted)                                                         \n",
            "                                                                 \n",
            "=================================================================\n",
            "Total params: 17,858,905\n",
            "Trainable params: 24,205\n",
            "Non-trainable params: 17,834,700\n",
            "_________________________________________________________________\n"
          ]
        }
      ],
      "source": [
        "# check summary of the model\n",
        "rnn_model.summary()"
      ]
    },
    {
      "cell_type": "markdown",
      "metadata": {
        "id": "3MyKuPdd-SX9"
      },
      "source": [
        "## Fit model"
      ]
    },
    {
      "cell_type": "code",
      "execution_count": null,
      "metadata": {
        "colab": {
          "base_uri": "https://localhost:8080/"
        },
        "id": "C7wc9him-SX9",
        "outputId": "cb1d2e98-7ce0-4c90-ff45-8d5507fd8507"
      },
      "outputs": [
        {
          "output_type": "stream",
          "name": "stdout",
          "text": [
            "Epoch 1/10\n",
            "408/408 [==============================] - 58s 133ms/step - loss: 0.5312 - acc: 0.8523 - val_loss: 0.3606 - val_acc: 0.8913\n",
            "Epoch 2/10\n",
            "408/408 [==============================] - 44s 109ms/step - loss: 0.3002 - acc: 0.9076 - val_loss: 0.2521 - val_acc: 0.9215\n",
            "Epoch 3/10\n",
            "408/408 [==============================] - 46s 112ms/step - loss: 0.2297 - acc: 0.9287 - val_loss: 0.2065 - val_acc: 0.9352\n",
            "Epoch 4/10\n",
            "408/408 [==============================] - 42s 102ms/step - loss: 0.1934 - acc: 0.9390 - val_loss: 0.1790 - val_acc: 0.9431\n",
            "Epoch 5/10\n",
            "408/408 [==============================] - 42s 102ms/step - loss: 0.1711 - acc: 0.9453 - val_loss: 0.1612 - val_acc: 0.9483\n",
            "Epoch 6/10\n",
            "408/408 [==============================] - 44s 109ms/step - loss: 0.1563 - acc: 0.9495 - val_loss: 0.1494 - val_acc: 0.9513\n",
            "Epoch 7/10\n",
            "408/408 [==============================] - 45s 110ms/step - loss: 0.1462 - acc: 0.9522 - val_loss: 0.1412 - val_acc: 0.9539\n",
            "Epoch 8/10\n",
            "408/408 [==============================] - 45s 109ms/step - loss: 0.1390 - acc: 0.9543 - val_loss: 0.1349 - val_acc: 0.9557\n",
            "Epoch 9/10\n",
            "408/408 [==============================] - 43s 106ms/step - loss: 0.1337 - acc: 0.9558 - val_loss: 0.1305 - val_acc: 0.9570\n",
            "Epoch 10/10\n",
            "408/408 [==============================] - 41s 102ms/step - loss: 0.1296 - acc: 0.9569 - val_loss: 0.1269 - val_acc: 0.9579\n"
          ]
        }
      ],
      "source": [
        "rnn_training = rnn_model.fit(X_train, Y_train, batch_size=128, epochs=10, validation_data=(X_validation, Y_validation))"
      ]
    },
    {
      "cell_type": "code",
      "execution_count": null,
      "metadata": {
        "scrolled": true,
        "colab": {
          "base_uri": "https://localhost:8080/",
          "height": 472
        },
        "id": "c_iZAfmj-SX9",
        "outputId": "7cf29b03-d1c2-4979-bea3-a460e81c02ba"
      },
      "outputs": [
        {
          "output_type": "display_data",
          "data": {
            "text/plain": [
              "<Figure size 640x480 with 1 Axes>"
            ],
            "image/png": "[encoded data removed]"
          },
          "metadata": {}
        }
      ],
      "source": [
        "# visualise training history\n",
        "plt.plot(rnn_training.history['acc'])\n",
        "plt.plot(rnn_training.history['val_acc'])\n",
        "plt.title('model accuracy')\n",
        "plt.ylabel('accuracy')\n",
        "plt.xlabel('epoch')\n",
        "plt.legend(['train', 'test'], loc=\"lower right\")\n",
        "plt.show()"
      ]
    },
    {
      "cell_type": "markdown",
      "metadata": {
        "id": "gcSgyCPm-SX9"
      },
      "source": [
        "### Uninitialised trainable embeddings"
      ]
    },
    {
      "cell_type": "code",
      "execution_count": null,
      "metadata": {
        "id": "KeHz1M1D-SX9"
      },
      "outputs": [],
      "source": [
        "# create architecture\n",
        "\n",
        "rnn_model = Sequential()\n",
        "\n",
        "# create embedding layer - usually the first layer in text problems\n",
        "rnn_model.add(Embedding(input_dim     =  VOCABULARY_SIZE,         # vocabulary size - number of unique words in data\n",
        "                        output_dim    =  EMBEDDING_SIZE,          # length of vector with which each word is represented\n",
        "                        input_length  =  MAX_SEQ_LENGTH,          # length of input sequence\n",
        "                        trainable     =  True                     # True - update the embeddings while training\n",
        "))\n",
        "\n",
        "# add an RNN layer which contains 64 RNN cells\n",
        "rnn_model.add(SimpleRNN(64, \n",
        "              return_sequences=True  # True - return whole sequence; False - return single output of the end of the sequence\n",
        "))\n",
        "\n",
        "# add time distributed (output at each sequence) layer\n",
        "rnn_model.add(TimeDistributed(Dense(NUM_CLASSES, activation='softmax')))"
      ]
    },
    {
      "cell_type": "markdown",
      "metadata": {
        "id": "1tHrejuq-SX-"
      },
      "source": [
        "## Compile model"
      ]
    },
    {
      "cell_type": "code",
      "execution_count": null,
      "metadata": {
        "id": "RATUbPVr-SX-"
      },
      "outputs": [],
      "source": [
        "rnn_model.compile(loss      =  'categorical_crossentropy',\n",
        "                  optimizer =  'adam',\n",
        "                  metrics   =  ['acc'])"
      ]
    },
    {
      "cell_type": "code",
      "execution_count": null,
      "metadata": {
        "scrolled": true,
        "colab": {
          "base_uri": "https://localhost:8080/"
        },
        "id": "u3UhHFXO-SX-",
        "outputId": "d49f95f1-1ca8-4b26-d56d-b9b244fcae02"
      },
      "outputs": [
        {
          "output_type": "stream",
          "name": "stdout",
          "text": [
            "Model: \"sequential_1\"\n",
            "_________________________________________________________________\n",
            " Layer (type)                Output Shape              Param #   \n",
            "=================================================================\n",
            " embedding_1 (Embedding)     (None, 100, 300)          17834700  \n",
            "                                                                 \n",
            " simple_rnn_1 (SimpleRNN)    (None, 100, 64)           23360     \n",
            "                                                                 \n",
            " time_distributed_1 (TimeDis  (None, 100, 13)          845       \n",
            " tributed)                                                       \n",
            "                                                                 \n",
            "=================================================================\n",
            "Total params: 17,858,905\n",
            "Trainable params: 17,858,905\n",
            "Non-trainable params: 0\n",
            "_________________________________________________________________\n"
          ]
        }
      ],
      "source": [
        "# check summary of the model\n",
        "rnn_model.summary()"
      ]
    },
    {
      "cell_type": "markdown",
      "metadata": {
        "id": "UXhKFEUp-SX-"
      },
      "source": [
        "## Fit model"
      ]
    },
    {
      "cell_type": "code",
      "execution_count": null,
      "metadata": {
        "colab": {
          "base_uri": "https://localhost:8080/"
        },
        "id": "wzGh9ll0-SX-",
        "outputId": "6d51c6da-3f79-4a51-a64f-2460e1468a46"
      },
      "outputs": [
        {
          "output_type": "stream",
          "name": "stdout",
          "text": [
            "Epoch 1/10\n",
            "408/408 [==============================] - 216s 525ms/step - loss: 0.1951 - acc: 0.9563 - val_loss: 0.0385 - val_acc: 0.9881\n",
            "Epoch 2/10\n",
            "408/408 [==============================] - 218s 534ms/step - loss: 0.0282 - acc: 0.9908 - val_loss: 0.0287 - val_acc: 0.9900\n",
            "Epoch 3/10\n",
            "408/408 [==============================] - 217s 533ms/step - loss: 0.0200 - acc: 0.9929 - val_loss: 0.0269 - val_acc: 0.9905\n",
            "Epoch 4/10\n",
            "408/408 [==============================] - 217s 533ms/step - loss: 0.0168 - acc: 0.9940 - val_loss: 0.0266 - val_acc: 0.9907\n",
            "Epoch 5/10\n",
            "408/408 [==============================] - 220s 538ms/step - loss: 0.0146 - acc: 0.9948 - val_loss: 0.0272 - val_acc: 0.9906\n",
            "Epoch 6/10\n",
            "408/408 [==============================] - 218s 533ms/step - loss: 0.0127 - acc: 0.9955 - val_loss: 0.0282 - val_acc: 0.9904\n",
            "Epoch 7/10\n",
            "408/408 [==============================] - 217s 532ms/step - loss: 0.0109 - acc: 0.9962 - val_loss: 0.0293 - val_acc: 0.9904\n",
            "Epoch 8/10\n",
            "408/408 [==============================] - 216s 531ms/step - loss: 0.0093 - acc: 0.9968 - val_loss: 0.0313 - val_acc: 0.9901\n",
            "Epoch 9/10\n",
            "408/408 [==============================] - 222s 544ms/step - loss: 0.0079 - acc: 0.9974 - val_loss: 0.0335 - val_acc: 0.9898\n",
            "Epoch 10/10\n",
            "408/408 [==============================] - 219s 537ms/step - loss: 0.0066 - acc: 0.9979 - val_loss: 0.0360 - val_acc: 0.9895\n"
          ]
        }
      ],
      "source": [
        "rnn_training = rnn_model.fit(X_train, Y_train, batch_size=128, epochs=10, validation_data=(X_validation, Y_validation))"
      ]
    },
    {
      "cell_type": "code",
      "execution_count": 64,
      "metadata": {
        "scrolled": true,
        "colab": {
          "base_uri": "https://localhost:8080/",
          "height": 472
        },
        "id": "7UlO7oib-SX-",
        "outputId": "6058f437-b55a-4d9f-fb59-7ef79f49cd99"
      },
      "outputs": [
        {
          "output_type": "display_data",
          "data": {
            "text/plain": [
              "<Figure size 640x480 with 1 Axes>"
            ],
            "image/png": "[encoded data removed]"
          },
          "metadata": {}
        }
      ],
      "source": [
        "# visualise training history\n",
        "plt.plot(rnn_training.history['acc'])\n",
        "plt.plot(rnn_training.history['val_acc'])\n",
        "plt.title('model accuracy')\n",
        "plt.ylabel('accuracy')\n",
        "plt.xlabel('epoch')\n",
        "plt.legend(['train', 'test'], loc=\"lower right\")\n",
        "plt.show()"
      ]
    },
    {
      "cell_type": "markdown",
      "metadata": {
        "id": "pKlymm8G-SX-"
      },
      "source": [
        "### Using pre-trained embedding weights"
      ]
    },
    {
      "cell_type": "code",
      "execution_count": 66,
      "metadata": {
        "id": "EbnDErHM-SX-"
      },
      "outputs": [],
      "source": [
        "# create architecture\n",
        "\n",
        "rnn_model = Sequential()\n",
        "\n",
        "# create embedding layer - usually the first layer in text problems\n",
        "rnn_model.add(Embedding(input_dim     =  VOCABULARY_SIZE,         # vocabulary size - number of unique words in data\n",
        "                        output_dim    =  EMBEDDING_SIZE,          # length of vector with which each word is represented\n",
        "                        input_length  =  MAX_SEQ_LENGTH,          # length of input sequence\n",
        "                        weights       = [embedding_weights],      # word embedding matrix\n",
        "                        trainable     =  True                     # True - update the embeddings while training\n",
        "))\n",
        "\n",
        "# add an RNN layer which contains 64 RNN cells\n",
        "rnn_model.add(SimpleRNN(64, \n",
        "              return_sequences=True  # True - return whole sequence; False - return single output of the end of the sequence\n",
        "))\n",
        "\n",
        "# add time distributed (output at each sequence) layer\n",
        "rnn_model.add(TimeDistributed(Dense(NUM_CLASSES, activation='softmax')))"
      ]
    },
    {
      "cell_type": "markdown",
      "metadata": {
        "id": "PkpXzyNj-SX-"
      },
      "source": [
        "## Compile model"
      ]
    },
    {
      "cell_type": "code",
      "execution_count": 67,
      "metadata": {
        "id": "C05ESbEv-SX-"
      },
      "outputs": [],
      "source": [
        "rnn_model.compile(loss      =  'categorical_crossentropy',\n",
        "                  optimizer =  'adam',\n",
        "                  metrics   =  ['acc'])"
      ]
    },
    {
      "cell_type": "code",
      "execution_count": 68,
      "metadata": {
        "scrolled": true,
        "id": "UkFPYrf8-SX_",
        "outputId": "09f05264-6175-48fd-8555-2f5976951ae7",
        "colab": {
          "base_uri": "https://localhost:8080/"
        }
      },
      "outputs": [
        {
          "output_type": "stream",
          "name": "stdout",
          "text": [
            "Model: \"sequential_3\"\n",
            "_________________________________________________________________\n",
            " Layer (type)                Output Shape              Param #   \n",
            "=================================================================\n",
            " embedding_3 (Embedding)     (None, 100, 300)          17834700  \n",
            "                                                                 \n",
            " simple_rnn_3 (SimpleRNN)    (None, 100, 64)           23360     \n",
            "                                                                 \n",
            " time_distributed_3 (TimeDis  (None, 100, 13)          845       \n",
            " tributed)                                                       \n",
            "                                                                 \n",
            "=================================================================\n",
            "Total params: 17,858,905\n",
            "Trainable params: 17,858,905\n",
            "Non-trainable params: 0\n",
            "_________________________________________________________________\n"
          ]
        }
      ],
      "source": [
        "# check summary of the model\n",
        "rnn_model.summary()"
      ]
    },
    {
      "cell_type": "markdown",
      "metadata": {
        "id": "CBSF6mFh-SX_"
      },
      "source": [
        "## Fit model"
      ]
    },
    {
      "cell_type": "code",
      "execution_count": 69,
      "metadata": {
        "id": "57aw_ySt-SX_",
        "outputId": "1cb01c6e-a468-44ad-df07-bc92535456ce",
        "colab": {
          "base_uri": "https://localhost:8080/"
        }
      },
      "outputs": [
        {
          "output_type": "stream",
          "name": "stdout",
          "text": [
            "Epoch 1/10\n",
            "408/408 [==============================] - 225s 542ms/step - loss: 0.1740 - acc: 0.9646 - val_loss: 0.0347 - val_acc: 0.9889\n",
            "Epoch 2/10\n",
            "408/408 [==============================] - 214s 525ms/step - loss: 0.0266 - acc: 0.9910 - val_loss: 0.0270 - val_acc: 0.9905\n",
            "Epoch 3/10\n",
            "408/408 [==============================] - 210s 515ms/step - loss: 0.0197 - acc: 0.9930 - val_loss: 0.0254 - val_acc: 0.9909\n",
            "Epoch 4/10\n",
            "408/408 [==============================] - 211s 518ms/step - loss: 0.0168 - acc: 0.9939 - val_loss: 0.0249 - val_acc: 0.9911\n",
            "Epoch 5/10\n",
            "408/408 [==============================] - 212s 520ms/step - loss: 0.0148 - acc: 0.9946 - val_loss: 0.0251 - val_acc: 0.9910\n",
            "Epoch 6/10\n",
            "408/408 [==============================] - 214s 525ms/step - loss: 0.0130 - acc: 0.9953 - val_loss: 0.0256 - val_acc: 0.9911\n",
            "Epoch 7/10\n",
            "408/408 [==============================] - 213s 523ms/step - loss: 0.0114 - acc: 0.9960 - val_loss: 0.0267 - val_acc: 0.9909\n",
            "Epoch 8/10\n",
            "408/408 [==============================] - 211s 518ms/step - loss: 0.0099 - acc: 0.9966 - val_loss: 0.0280 - val_acc: 0.9908\n",
            "Epoch 9/10\n",
            "408/408 [==============================] - 211s 518ms/step - loss: 0.0085 - acc: 0.9972 - val_loss: 0.0297 - val_acc: 0.9907\n",
            "Epoch 10/10\n",
            "408/408 [==============================] - 213s 521ms/step - loss: 0.0072 - acc: 0.9976 - val_loss: 0.0315 - val_acc: 0.9904\n"
          ]
        }
      ],
      "source": [
        "rnn_training = rnn_model.fit(X_train, Y_train, batch_size=128, epochs=10, validation_data=(X_validation, Y_validation))"
      ]
    },
    {
      "cell_type": "code",
      "execution_count": 65,
      "metadata": {
        "scrolled": true,
        "id": "rI-JlAQh-SX_",
        "outputId": "55f7595c-eb28-421a-8277-230dab514b99",
        "colab": {
          "base_uri": "https://localhost:8080/",
          "height": 472
        }
      },
      "outputs": [
        {
          "output_type": "display_data",
          "data": {
            "text/plain": [
              "<Figure size 640x480 with 1 Axes>"
            ],
            "image/png": "[encoded data removed]"
          },
          "metadata": {}
        }
      ],
      "source": [
        "# visualise training history\n",
        "plt.plot(rnn_training.history['acc'])\n",
        "plt.plot(rnn_training.history['val_acc'])\n",
        "plt.title('model accuracy')\n",
        "plt.ylabel('accuracy')\n",
        "plt.xlabel('epoch')\n",
        "plt.legend(['train', 'test'], loc=\"lower right\")\n",
        "plt.show()"
      ]
    },
    {
      "cell_type": "markdown",
      "metadata": {
        "id": "-b_EPIbI-SX_"
      },
      "source": [
        "# 2. LSTM"
      ]
    },
    {
      "cell_type": "markdown",
      "metadata": {
        "id": "gSMwKLsi-SX_"
      },
      "source": [
        "We'll use pre-trained word embeddings in following models and allow them to be updated as well. "
      ]
    },
    {
      "cell_type": "markdown",
      "metadata": {
        "id": "I5rYQENY-SX_"
      },
      "source": [
        "## Create model architecture"
      ]
    },
    {
      "cell_type": "code",
      "execution_count": null,
      "metadata": {
        "id": "69U9ZQf6-SX_"
      },
      "outputs": [],
      "source": [
        "# create architecture\n",
        "\n",
        "lstm_model = Sequential()\n",
        "lstm_model.add(Embedding(input_dim     = VOCABULARY_SIZE,         # vocabulary size - number of unique words in data\n",
        "                         output_dim    = EMBEDDING_SIZE,          # length of vector with which each word is represented\n",
        "                         input_length  = MAX_SEQ_LENGTH,          # length of input sequence\n",
        "                         weights       = [embedding_weights],     # word embedding matrix\n",
        "                         trainable     = True                     # True - update embeddings_weight matrix\n",
        "))\n",
        "lstm_model.add(LSTM(64, return_sequences=True))\n",
        "lstm_model.add(TimeDistributed(Dense(NUM_CLASSES, activation='softmax')))"
      ]
    },
    {
      "cell_type": "markdown",
      "metadata": {
        "id": "sXx1_8M_-SX_"
      },
      "source": [
        "## Compile model"
      ]
    },
    {
      "cell_type": "code",
      "execution_count": null,
      "metadata": {
        "id": "L3aeb1N4-SX_"
      },
      "outputs": [],
      "source": [
        "lstm_model.compile(loss      =  'categorical_crossentropy',\n",
        "                   optimizer =  'adam',\n",
        "                   metrics   =  ['acc'])"
      ]
    },
    {
      "cell_type": "code",
      "execution_count": null,
      "metadata": {
        "id": "B1CMmF_F-SYA"
      },
      "outputs": [],
      "source": [
        "# check summary of the model\n",
        "lstm_model.summary()"
      ]
    },
    {
      "cell_type": "markdown",
      "metadata": {
        "id": "nqKNbamh-SYA"
      },
      "source": [
        "## Fit model"
      ]
    },
    {
      "cell_type": "code",
      "execution_count": null,
      "metadata": {
        "id": "m6pjfQyo-SYA"
      },
      "outputs": [],
      "source": [
        "lstm_training = lstm_model.fit(X_train, Y_train, batch_size=128, epochs=10, validation_data=(X_validation, Y_validation))"
      ]
    },
    {
      "cell_type": "code",
      "execution_count": null,
      "metadata": {
        "id": "TcXk7lEs-SYA"
      },
      "outputs": [],
      "source": [
        "# visualise training history\n",
        "plt.plot(lstm_training.history['acc'])\n",
        "plt.plot(lstm_training.history['val_acc'])\n",
        "plt.title('model accuracy')\n",
        "plt.ylabel('accuracy')\n",
        "plt.xlabel('epoch')\n",
        "plt.legend(['train', 'test'], loc=\"lower right\")\n",
        "plt.show()"
      ]
    },
    {
      "cell_type": "markdown",
      "metadata": {
        "collapsed": true,
        "id": "cQ6i3Sw7-SYA"
      },
      "source": [
        "# 2. GRU"
      ]
    },
    {
      "cell_type": "markdown",
      "metadata": {
        "id": "gdfJsi8c-SYA"
      },
      "source": [
        "## Create model architecture"
      ]
    },
    {
      "cell_type": "code",
      "execution_count": null,
      "metadata": {
        "id": "KKFe7kLM-SYA"
      },
      "outputs": [],
      "source": [
        "# create architecture\n",
        "\n",
        "gru_model = Sequential()\n",
        "gru_model.add(Embedding(input_dim     = VOCABULARY_SIZE,\n",
        "                        output_dim    = EMBEDDING_SIZE,\n",
        "                        input_length  = MAX_SEQ_LENGTH,\n",
        "                        weights       = [embedding_weights],\n",
        "                        trainable     = True\n",
        "))\n",
        "gru_model.add(GRU(64, return_sequences=True))\n",
        "gru_model.add(TimeDistributed(Dense(NUM_CLASSES, activation='softmax')))"
      ]
    },
    {
      "cell_type": "markdown",
      "metadata": {
        "id": "CWOuW7yi-SYA"
      },
      "source": [
        "## Compile model"
      ]
    },
    {
      "cell_type": "code",
      "execution_count": null,
      "metadata": {
        "id": "cgT3em0J-SYA"
      },
      "outputs": [],
      "source": [
        "gru_model.compile(loss='categorical_crossentropy',\n",
        "              optimizer='adam',\n",
        "              metrics=['acc'])"
      ]
    },
    {
      "cell_type": "code",
      "execution_count": null,
      "metadata": {
        "id": "_ttNYMD8-SYB"
      },
      "outputs": [],
      "source": [
        "# check summary of model\n",
        "gru_model.summary()"
      ]
    },
    {
      "cell_type": "markdown",
      "metadata": {
        "id": "0q9HT4PD-SYB"
      },
      "source": [
        "## Fit model"
      ]
    },
    {
      "cell_type": "code",
      "execution_count": null,
      "metadata": {
        "id": "QtWb9Wgb-SYB"
      },
      "outputs": [],
      "source": [
        "gru_training = gru_model.fit(X_train, Y_train, batch_size=128, epochs=10, validation_data=(X_validation, Y_validation))"
      ]
    },
    {
      "cell_type": "code",
      "execution_count": null,
      "metadata": {
        "id": "UUw2BYqU-SYB"
      },
      "outputs": [],
      "source": [
        "# visualise training history\n",
        "plt.plot(gru_training.history['acc'])\n",
        "plt.plot(gru_training.history['val_acc'])\n",
        "plt.title('model accuracy')\n",
        "plt.ylabel('accuracy')\n",
        "plt.xlabel('epoch')\n",
        "plt.legend(['train', 'test'], loc=\"lower right\")\n",
        "plt.show()"
      ]
    },
    {
      "cell_type": "markdown",
      "metadata": {
        "id": "jtil75wB-SYB"
      },
      "source": [
        "# 3. Bidirectional LSTM"
      ]
    },
    {
      "cell_type": "markdown",
      "metadata": {
        "id": "y-Bfjwiy-SYB"
      },
      "source": [
        "## Create model architecture"
      ]
    },
    {
      "cell_type": "code",
      "execution_count": null,
      "metadata": {
        "id": "X7Fd-mly-SYB"
      },
      "outputs": [],
      "source": [
        "# create architecture\n",
        "\n",
        "bidirect_model = Sequential()\n",
        "bidirect_model.add(Embedding(input_dim     = VOCABULARY_SIZE,\n",
        "                             output_dim    = EMBEDDING_SIZE,\n",
        "                             input_length  = MAX_SEQ_LENGTH,\n",
        "                             weights       = [embedding_weights],\n",
        "                             trainable     = True\n",
        "))\n",
        "bidirect_model.add(Bidirectional(LSTM(64, return_sequences=True)))\n",
        "bidirect_model.add(TimeDistributed(Dense(NUM_CLASSES, activation='softmax')))"
      ]
    },
    {
      "cell_type": "markdown",
      "metadata": {
        "id": "WHu8x8gq-SYB"
      },
      "source": [
        "## Compile model"
      ]
    },
    {
      "cell_type": "code",
      "execution_count": null,
      "metadata": {
        "id": "yJgBV8ng-SYB"
      },
      "outputs": [],
      "source": [
        "bidirect_model.compile(loss='categorical_crossentropy',\n",
        "              optimizer='adam',\n",
        "              metrics=['acc'])"
      ]
    },
    {
      "cell_type": "code",
      "execution_count": null,
      "metadata": {
        "id": "A6ozeNds-SYB"
      },
      "outputs": [],
      "source": [
        "# check summary of model\n",
        "bidirect_model.summary()"
      ]
    },
    {
      "cell_type": "markdown",
      "metadata": {
        "id": "hDCr9lsA-SYC"
      },
      "source": [
        "## Fit model"
      ]
    },
    {
      "cell_type": "code",
      "execution_count": null,
      "metadata": {
        "id": "bLexNLGX-SYC"
      },
      "outputs": [],
      "source": [
        "bidirect_training = bidirect_model.fit(X_train, Y_train, batch_size=128, epochs=10, validation_data=(X_validation, Y_validation))"
      ]
    },
    {
      "cell_type": "code",
      "execution_count": null,
      "metadata": {
        "id": "fkr5G1VE-SYC"
      },
      "outputs": [],
      "source": [
        "# visualise training history\n",
        "plt.plot(bidirect_training.history['acc'])\n",
        "plt.plot(bidirect_training.history['val_acc'])\n",
        "plt.title('model accuracy')\n",
        "plt.ylabel('accuracy')\n",
        "plt.xlabel('epoch')\n",
        "plt.legend(['train', 'test'], loc=\"lower right\")\n",
        "plt.show()"
      ]
    },
    {
      "cell_type": "markdown",
      "metadata": {
        "id": "fckaW5-m-SYC"
      },
      "source": [
        "# 5. Model evaluation"
      ]
    },
    {
      "cell_type": "code",
      "execution_count": null,
      "metadata": {
        "id": "P9h0R0wB-SYC"
      },
      "outputs": [],
      "source": [
        "loss, accuracy = rnn_model.evaluate(X_test, Y_test, verbose = 1)\n",
        "print(\"Loss: {0},\\nAccuracy: {1}\".format(loss, accuracy))"
      ]
    },
    {
      "cell_type": "code",
      "execution_count": null,
      "metadata": {
        "id": "NRk5L99w-SYC"
      },
      "outputs": [],
      "source": [
        "loss, accuracy = lstm_model.evaluate(X_test, Y_test, verbose = 1)\n",
        "print(\"Loss: {0},\\nAccuracy: {1}\".format(loss, accuracy))"
      ]
    },
    {
      "cell_type": "code",
      "execution_count": null,
      "metadata": {
        "id": "dvuTmWf9-SYC"
      },
      "outputs": [],
      "source": [
        "loss, accuracy = gru_model.evaluate(X_test, Y_test, verbose = 1)\n",
        "print(\"Loss: {0},\\nAccuracy: {1}\".format(loss, accuracy))"
      ]
    },
    {
      "cell_type": "code",
      "execution_count": null,
      "metadata": {
        "id": "mxZMd4l_-SYC"
      },
      "outputs": [],
      "source": [
        "loss, accuracy = bidirect_model.evaluate(X_test, Y_test, verbose = 1)\n",
        "print(\"Loss: {0},\\nAccuracy: {1}\".format(loss, accuracy))"
      ]
    },
    {
      "cell_type": "code",
      "execution_count": null,
      "metadata": {
        "id": "YkQZdFPX-SYC"
      },
      "outputs": [],
      "source": []
    }
  ],
  "metadata": {
    "kernelspec": {
      "display_name": "Python 3 (ipykernel)",
      "language": "python",
      "name": "python3"
    },
    "language_info": {
      "codemirror_mode": {
        "name": "ipython",
        "version": 3
      },
      "file_extension": ".py",
      "mimetype": "text/x-python",
      "name": "python",
      "nbconvert_exporter": "python",
      "pygments_lexer": "ipython3",
      "version": "3.9.7"
    },
    "colab": {
      "provenance": []
    }
  },
  "nbformat": 4,
  "nbformat_minor": 0
}